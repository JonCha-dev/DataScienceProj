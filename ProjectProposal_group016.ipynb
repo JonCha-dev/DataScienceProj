{
 "cells": [
  {
   "cell_type": "markdown",
   "metadata": {},
   "source": [
    "# COGS 108 - Final Project Proposal"
   ]
  },
  {
   "cell_type": "markdown",
   "metadata": {},
   "source": [
    "# Names\n",
    "\n",
    "- Allison Bhavsar\n",
    "- Jon Chang\n",
    "- Mikaela Grenion\n",
    "- Nathan Nakamura\n",
    "- Tilak Patel"
   ]
  },
  {
   "cell_type": "markdown",
   "metadata": {},
   "source": [
    "# Research Question"
   ]
  },
  {
   "cell_type": "markdown",
   "metadata": {},
   "source": [
    "Is there a relationship between race and reason for wrongful conviction among exonerees in the United States?"
   ]
  },
  {
   "cell_type": "markdown",
   "metadata": {},
   "source": [
    "## Background and Prior Work"
   ]
  },
  {
   "cell_type": "markdown",
   "metadata": {},
   "source": [
    "Right now, very little research on wrongful convictions and exonerations has been done in the United States. In “The Criminology of Wrongful Conviction: A decade later,” the author Richard Leo details the history of these convictions and what research has been done in the field. Before DNA analysis was used in criminal cases, wrongful convictions were thought of as extremely rare occurrences that did not justify rethinking how evidence was evaluated. At the time, this system was upheld as a way to produce ‘reliable outcomes,’ even though there was and is still really no way to ensure that these convictions are just. DNA evidence was first introduced in 1986 and led to rapid amounts of exonerations in the 1990’s and early 2000’s. These breakthroughs led researchers in crime, law, and sociology to delve into why and how these convictions occur. \n",
    "\n",
    "Although the specifics of many of these cases differ between each other, there exist commonalities between them that have yet to be fully explored. In “Mass Exoneration data and the causes of wrongful convictions,” Russell Covey explores two cases of mass exonerations (multiple convictions overturned in related cases) and the similarities between the cases. In many exoneration cases, the persons involved are convicted of very serious crimes with the penalty of serving long terms or death sentences, meaning the stakes of these sentences are incredibly high. Covey also found that the accused argue non-guilt at the trial as opposed to 90% of all other convictions that are obtained through guilty pleas. Very few wrongful convictions come from pleading guilty (less than 6%). The author also found that people of color are at greater risk of facing wrongful convictions. In the two cases he examines (Ramport and Tulia exonerations), the mass majority of exonerees were Hispanic or Black. This research becomes especially important when attempting to determine the causes of these convictions. Although many exonerations came from DNA evidence clearing the accused, many also come from police misconduct. This involves officers filing false police reports, planting drugs/weapons, and giving false testimonies. As exonerations become a prevalent topic, more research needs to be done into if background, including race and economic status, play a substantial role in these convictions. \n",
    "\n",
    "References (include links):\n",
    "- 1) [Mass Exoneration data and the causes of wrongful convictions](https://poseidon01.ssrn.com/delivery.php?ID=193021116117102011096085081115078018050053039063074059107020113074026014125096008122062055115111018120051028085020083026011022011005029023065115127088065091019001028030057095103101103071111115004110113123117120113004090090010012080073066011002005115&EXT=pdf&INDEX=TRUE)\n",
    "- 2) [The Criminology of Wrongful Conviction: A Decade Later](https://papers.ssrn.com/sol3/papers.cfm?abstract_id=2838951)"
   ]
  },
  {
   "cell_type": "markdown",
   "metadata": {},
   "source": [
    "# Hypothesis\n"
   ]
  },
  {
   "cell_type": "markdown",
   "metadata": {},
   "source": [
    "Based on our prior research, we hypothesize that wrongfully convicted People Of Color are more likely to be exonerated due to malicious and false reasons than their Caucasian counterparts. For our hypothesis, we are qualifying malicious and false reasons as any of the following: false confession, perjury or false accusation, false or misleading forensic evidence, official misconduct, and inadequate legal defense."
   ]
  },
  {
   "cell_type": "markdown",
   "metadata": {},
   "source": [
    "# Data"
   ]
  },
  {
   "cell_type": "markdown",
   "metadata": {},
   "source": [
    "Our planned dataset from the National Registry of Exonerations contains observations about exonerees in the United States that we will be using to test our hypothesis. The dataset consists of exonerees' race, age, year of exoneration, and the reasons for the wrongful conviction. Since the reasoning behind malicious conviction varies case by case, we have to take all of them into account. This drastically increases the amount of variables to take into consideration, and also provides further insight that could later be turned into new observations. The primary variables that we will be taking into account when making our observations will be race and the reasons for wrongful convictions, and the overall trend we see between their relationship. We would import the database by calling read_csv and the database link, and then store it in a pandas dataframe variable. We would need to clean the dataset since there are some rows we would not be using, such as data points where the race is labeled “Don't Know,” since race is a variable of importance in our research."
   ]
  },
  {
   "cell_type": "markdown",
   "metadata": {},
   "source": [
    "# Ethics & Privacy"
   ]
  },
  {
   "cell_type": "markdown",
   "metadata": {},
   "source": [
    "The dataset we plan to use is open for public access and therefore should not require any additional permission for academic use. The dataset is provided by The National Registry of Exonerations, who have stated that they “rely entirely on publicly available information,” so there is no privacy issue in using this accumulated data. Although individuals may certainly be identifiable from the information provided (i.e. name), we will not include this information in our study to maximize anonymity. The National Registry of Exonerations has also mentioned that “their criteria for classifying cases as exonerations are based on official actions by courts and other government agencies,” so there is minimal bias from this organization.  \n",
    "\n",
    "Our intent is to investigate any possible correlation between race and specific wrongful exonerations in the United States through an objective lens, so as to prevent any personal bias resulting from, if any, preconceptions of the topic at hand. Due to this study’s academic and objective quality, it is unlikely that any ethical issues will arise as a result of bias. Similarly, due to our presented question focusing on wrongful convictions, the study is unlikely to be used for malicious purposes as our findings would heavily suggest innocence rather than criminality. "
   ]
  },
  {
   "cell_type": "markdown",
   "metadata": {},
   "source": [
    "# Team Expectations "
   ]
  },
  {
   "cell_type": "markdown",
   "metadata": {},
   "source": [
    "* Punctual to all meetings\n",
    "* Contributing a fair amount of work\n",
    "* Finishing your work before each meeting so that we can discuss/revise it\n",
    "* Communicating well with each other "
   ]
  },
  {
   "cell_type": "markdown",
   "metadata": {},
   "source": [
    "# Project Timeline Proposal"
   ]
  },
  {
   "cell_type": "markdown",
   "metadata": {},
   "source": [
    "| Meeting Date  | Meeting Time| Completed Before Meeting  | Discuss at Meeting |\n",
    "|---|---|---|---|\n",
    "| 4/28  |  1 PM | Look over National Registry of Exonerations dataset and research related datasets  | Share datasets we found and discuss whether we need to incorporate any of them | \n",
    "| 5/5  |  1 PM |  Import our dataset and implement data cleaning and wrangling for Checkpoint #1 | Review and finalize Checkpoint #1 and assign members to look into data analysis | \n",
    "| 5/12  | 1 PM  | Research techniques for data analysis and begin Pandas implementation  | Look over analysis so far and discuss whether any changes need to be made   |\n",
    "| 5/19  | 1 PM  | Continue data analysis for Checkpoint #2 | Discuss data analysis and assign people to make any changes or fixes before turning in   |\n",
    "| 5/26  | 1 PM  | Finish remaining parts of project report such as conclusion and proofread previous parts | Go over final report to add final touches and assign parts for video |\n",
    "| 6/2  | 1 PM  | Record/edit our designated parts for the video | Review the final video and make any final changes for turn in |"
   ]
  }
 ],
 "metadata": {
  "kernelspec": {
   "display_name": "Python 3",
   "language": "python",
   "name": "python3"
  },
  "language_info": {
   "codemirror_mode": {
    "name": "ipython",
    "version": 3
   },
   "file_extension": ".py",
   "mimetype": "text/x-python",
   "name": "python",
   "nbconvert_exporter": "python",
   "pygments_lexer": "ipython3",
   "version": "3.8.5"
  }
 },
 "nbformat": 4,
 "nbformat_minor": 2
}

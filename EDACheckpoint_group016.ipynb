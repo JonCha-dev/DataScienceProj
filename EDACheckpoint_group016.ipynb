{
 "cells": [
  {
   "cell_type": "markdown",
   "metadata": {},
   "source": [
    "# COGS 108 - EDA Checkpoint"
   ]
  },
  {
   "cell_type": "markdown",
   "metadata": {},
   "source": [
    "# Names\n",
    "\n",
    "- Allison Bhavsar\n",
    "- Jon Chang\n",
    "- Mikaela Grenion\n",
    "- Nathan Nakamura\n",
    "- Tilak Patel"
   ]
  },
  {
   "cell_type": "markdown",
   "metadata": {},
   "source": [
    "<a id='research_question'></a>\n",
    "# Research Question"
   ]
  },
  {
   "cell_type": "markdown",
   "metadata": {},
   "source": [
    "Is there a relationship between race and reason for wrongful conviction among exonerees in the United States?"
   ]
  },
  {
   "cell_type": "markdown",
   "metadata": {},
   "source": [
    "# Setup"
   ]
  },
  {
   "cell_type": "code",
   "execution_count": 1,
   "metadata": {},
   "outputs": [
    {
     "data": {
      "text/html": [
       "<div>\n",
       "<style scoped>\n",
       "    .dataframe tbody tr th:only-of-type {\n",
       "        vertical-align: middle;\n",
       "    }\n",
       "\n",
       "    .dataframe tbody tr th {\n",
       "        vertical-align: top;\n",
       "    }\n",
       "\n",
       "    .dataframe thead th {\n",
       "        text-align: right;\n",
       "    }\n",
       "</style>\n",
       "<table border=\"1\" class=\"dataframe\">\n",
       "  <thead>\n",
       "    <tr style=\"text-align: right;\">\n",
       "      <th></th>\n",
       "      <th>Last Name</th>\n",
       "      <th>First Name</th>\n",
       "      <th>Age</th>\n",
       "      <th>Race</th>\n",
       "      <th>Sex</th>\n",
       "      <th>State</th>\n",
       "      <th>County</th>\n",
       "      <th>Tags</th>\n",
       "      <th>Worst Crime Display</th>\n",
       "      <th>List Add'l Crimes Recode</th>\n",
       "      <th>...</th>\n",
       "      <th>*</th>\n",
       "      <th>FC</th>\n",
       "      <th>MWID</th>\n",
       "      <th>F/MFE</th>\n",
       "      <th>P/FA</th>\n",
       "      <th>OM</th>\n",
       "      <th>ILD</th>\n",
       "      <th>Posting Date</th>\n",
       "      <th>OM Tags</th>\n",
       "      <th>Occurred</th>\n",
       "    </tr>\n",
       "  </thead>\n",
       "  <tbody>\n",
       "    <tr>\n",
       "      <th>0</th>\n",
       "      <td>Abbitt</td>\n",
       "      <td>Joseph</td>\n",
       "      <td>31.0</td>\n",
       "      <td>Black</td>\n",
       "      <td>Male</td>\n",
       "      <td>North Carolina</td>\n",
       "      <td>Forsyth</td>\n",
       "      <td>CV;#IO</td>\n",
       "      <td>Child Sex Abuse</td>\n",
       "      <td>Sexual Assault;#Kidnapping;#Burglary/Unlawful ...</td>\n",
       "      <td>...</td>\n",
       "      <td>NaN</td>\n",
       "      <td>NaN</td>\n",
       "      <td>MWID</td>\n",
       "      <td>NaN</td>\n",
       "      <td>NaN</td>\n",
       "      <td>NaN</td>\n",
       "      <td>NaN</td>\n",
       "      <td>2011-09-01</td>\n",
       "      <td>NaN</td>\n",
       "      <td>1991</td>\n",
       "    </tr>\n",
       "    <tr>\n",
       "      <th>1</th>\n",
       "      <td>Abdal</td>\n",
       "      <td>Warith Habib</td>\n",
       "      <td>43.0</td>\n",
       "      <td>Black</td>\n",
       "      <td>Male</td>\n",
       "      <td>New York</td>\n",
       "      <td>Erie</td>\n",
       "      <td>IO</td>\n",
       "      <td>Sexual Assault</td>\n",
       "      <td>Robbery</td>\n",
       "      <td>...</td>\n",
       "      <td>NaN</td>\n",
       "      <td>NaN</td>\n",
       "      <td>MWID</td>\n",
       "      <td>F/MFE</td>\n",
       "      <td>NaN</td>\n",
       "      <td>OM</td>\n",
       "      <td>NaN</td>\n",
       "      <td>2011-08-29</td>\n",
       "      <td>OF;#WH;#NW;#WT</td>\n",
       "      <td>1982</td>\n",
       "    </tr>\n",
       "    <tr>\n",
       "      <th>2</th>\n",
       "      <td>Abernathy</td>\n",
       "      <td>Christopher</td>\n",
       "      <td>17.0</td>\n",
       "      <td>White</td>\n",
       "      <td>Male</td>\n",
       "      <td>Illinois</td>\n",
       "      <td>Cook</td>\n",
       "      <td>CIU;#CV;#H;#IO</td>\n",
       "      <td>Murder</td>\n",
       "      <td>Rape;#Robbery</td>\n",
       "      <td>...</td>\n",
       "      <td>NaN</td>\n",
       "      <td>FC</td>\n",
       "      <td>NaN</td>\n",
       "      <td>NaN</td>\n",
       "      <td>P/FA</td>\n",
       "      <td>OM</td>\n",
       "      <td>NaN</td>\n",
       "      <td>2015-02-13</td>\n",
       "      <td>OF;#WH;#NW;#INT</td>\n",
       "      <td>1984</td>\n",
       "    </tr>\n",
       "    <tr>\n",
       "      <th>3</th>\n",
       "      <td>Abney</td>\n",
       "      <td>Quentin</td>\n",
       "      <td>32.0</td>\n",
       "      <td>Black</td>\n",
       "      <td>Male</td>\n",
       "      <td>New York</td>\n",
       "      <td>New York</td>\n",
       "      <td>CV</td>\n",
       "      <td>Robbery</td>\n",
       "      <td>NaN</td>\n",
       "      <td>...</td>\n",
       "      <td>NaN</td>\n",
       "      <td>NaN</td>\n",
       "      <td>MWID</td>\n",
       "      <td>NaN</td>\n",
       "      <td>NaN</td>\n",
       "      <td>NaN</td>\n",
       "      <td>NaN</td>\n",
       "      <td>2019-05-13</td>\n",
       "      <td>NaN</td>\n",
       "      <td>2005</td>\n",
       "    </tr>\n",
       "    <tr>\n",
       "      <th>4</th>\n",
       "      <td>Acero</td>\n",
       "      <td>Longino</td>\n",
       "      <td>35.0</td>\n",
       "      <td>Hispanic</td>\n",
       "      <td>Male</td>\n",
       "      <td>California</td>\n",
       "      <td>Santa Clara</td>\n",
       "      <td>NC;#P</td>\n",
       "      <td>Sex Offender Registration</td>\n",
       "      <td>NaN</td>\n",
       "      <td>...</td>\n",
       "      <td>NaN</td>\n",
       "      <td>NaN</td>\n",
       "      <td>NaN</td>\n",
       "      <td>NaN</td>\n",
       "      <td>NaN</td>\n",
       "      <td>NaN</td>\n",
       "      <td>ILD</td>\n",
       "      <td>2011-08-29</td>\n",
       "      <td>NaN</td>\n",
       "      <td>1994</td>\n",
       "    </tr>\n",
       "    <tr>\n",
       "      <th>...</th>\n",
       "      <td>...</td>\n",
       "      <td>...</td>\n",
       "      <td>...</td>\n",
       "      <td>...</td>\n",
       "      <td>...</td>\n",
       "      <td>...</td>\n",
       "      <td>...</td>\n",
       "      <td>...</td>\n",
       "      <td>...</td>\n",
       "      <td>...</td>\n",
       "      <td>...</td>\n",
       "      <td>...</td>\n",
       "      <td>...</td>\n",
       "      <td>...</td>\n",
       "      <td>...</td>\n",
       "      <td>...</td>\n",
       "      <td>...</td>\n",
       "      <td>...</td>\n",
       "      <td>...</td>\n",
       "      <td>...</td>\n",
       "      <td>...</td>\n",
       "    </tr>\n",
       "    <tr>\n",
       "      <th>2760</th>\n",
       "      <td>Zawacki</td>\n",
       "      <td>Richard</td>\n",
       "      <td>38.0</td>\n",
       "      <td>White</td>\n",
       "      <td>Male</td>\n",
       "      <td>Indiana</td>\n",
       "      <td>Huntington</td>\n",
       "      <td>CV;#NC</td>\n",
       "      <td>Child Sex Abuse</td>\n",
       "      <td>NaN</td>\n",
       "      <td>...</td>\n",
       "      <td>NaN</td>\n",
       "      <td>NaN</td>\n",
       "      <td>NaN</td>\n",
       "      <td>NaN</td>\n",
       "      <td>P/FA</td>\n",
       "      <td>NaN</td>\n",
       "      <td>NaN</td>\n",
       "      <td>2017-08-08</td>\n",
       "      <td>NaN</td>\n",
       "      <td>2000</td>\n",
       "    </tr>\n",
       "    <tr>\n",
       "      <th>2761</th>\n",
       "      <td>Zimmer</td>\n",
       "      <td>Walter</td>\n",
       "      <td>40.0</td>\n",
       "      <td>White</td>\n",
       "      <td>Male</td>\n",
       "      <td>Ohio</td>\n",
       "      <td>Cuyahoga</td>\n",
       "      <td>CDC;#H;#IO</td>\n",
       "      <td>Manslaughter</td>\n",
       "      <td>Attempted Murder;#Robbery;#Assault;#Kidnapping...</td>\n",
       "      <td>...</td>\n",
       "      <td>*</td>\n",
       "      <td>NaN</td>\n",
       "      <td>NaN</td>\n",
       "      <td>F/MFE</td>\n",
       "      <td>P/FA</td>\n",
       "      <td>OM</td>\n",
       "      <td>NaN</td>\n",
       "      <td>2013-10-04</td>\n",
       "      <td>FA;#WH;#NW;#PJ</td>\n",
       "      <td>1997</td>\n",
       "    </tr>\n",
       "    <tr>\n",
       "      <th>2762</th>\n",
       "      <td>Zimmerman</td>\n",
       "      <td>Evan</td>\n",
       "      <td>53.0</td>\n",
       "      <td>White</td>\n",
       "      <td>Male</td>\n",
       "      <td>Wisconsin</td>\n",
       "      <td>Dodge</td>\n",
       "      <td>H;#IO</td>\n",
       "      <td>Murder</td>\n",
       "      <td>NaN</td>\n",
       "      <td>...</td>\n",
       "      <td>*</td>\n",
       "      <td>FC</td>\n",
       "      <td>NaN</td>\n",
       "      <td>NaN</td>\n",
       "      <td>NaN</td>\n",
       "      <td>NaN</td>\n",
       "      <td>ILD</td>\n",
       "      <td>2011-08-29</td>\n",
       "      <td>NaN</td>\n",
       "      <td>2000</td>\n",
       "    </tr>\n",
       "    <tr>\n",
       "      <th>2763</th>\n",
       "      <td>Zinkiewicz</td>\n",
       "      <td>Tyrone</td>\n",
       "      <td>38.0</td>\n",
       "      <td>White</td>\n",
       "      <td>Male</td>\n",
       "      <td>Ohio</td>\n",
       "      <td>Montgomery</td>\n",
       "      <td>CV;#NC</td>\n",
       "      <td>Other Nonviolent Felony</td>\n",
       "      <td>NaN</td>\n",
       "      <td>...</td>\n",
       "      <td>NaN</td>\n",
       "      <td>NaN</td>\n",
       "      <td>NaN</td>\n",
       "      <td>NaN</td>\n",
       "      <td>P/FA</td>\n",
       "      <td>OM</td>\n",
       "      <td>NaN</td>\n",
       "      <td>2014-10-25</td>\n",
       "      <td>PR;#WH</td>\n",
       "      <td>1988</td>\n",
       "    </tr>\n",
       "    <tr>\n",
       "      <th>2764</th>\n",
       "      <td>Zomber</td>\n",
       "      <td>Michael</td>\n",
       "      <td>53.0</td>\n",
       "      <td>White</td>\n",
       "      <td>Male</td>\n",
       "      <td>Fed-PA</td>\n",
       "      <td>(Eastern)</td>\n",
       "      <td>FED</td>\n",
       "      <td>Fraud</td>\n",
       "      <td>NaN</td>\n",
       "      <td>...</td>\n",
       "      <td>NaN</td>\n",
       "      <td>NaN</td>\n",
       "      <td>NaN</td>\n",
       "      <td>NaN</td>\n",
       "      <td>NaN</td>\n",
       "      <td>OM</td>\n",
       "      <td>NaN</td>\n",
       "      <td>2011-08-29</td>\n",
       "      <td>PR;#WH</td>\n",
       "      <td>2001</td>\n",
       "    </tr>\n",
       "  </tbody>\n",
       "</table>\n",
       "<p>2765 rows × 24 columns</p>\n",
       "</div>"
      ],
      "text/plain": [
       "       Last Name    First Name   Age      Race   Sex           State  \\\n",
       "0         Abbitt       Joseph   31.0     Black  Male  North Carolina   \n",
       "1          Abdal  Warith Habib  43.0     Black  Male        New York   \n",
       "2      Abernathy   Christopher  17.0     White  Male        Illinois   \n",
       "3          Abney       Quentin  32.0     Black  Male        New York   \n",
       "4          Acero       Longino  35.0  Hispanic  Male      California   \n",
       "...          ...           ...   ...       ...   ...             ...   \n",
       "2760     Zawacki       Richard  38.0     White  Male         Indiana   \n",
       "2761      Zimmer        Walter  40.0     White  Male            Ohio   \n",
       "2762   Zimmerman          Evan  53.0     White  Male       Wisconsin   \n",
       "2763  Zinkiewicz        Tyrone  38.0     White  Male            Ohio   \n",
       "2764      Zomber       Michael  53.0     White  Male          Fed-PA   \n",
       "\n",
       "           County            Tags        Worst Crime Display  \\\n",
       "0         Forsyth          CV;#IO            Child Sex Abuse   \n",
       "1            Erie              IO             Sexual Assault   \n",
       "2            Cook  CIU;#CV;#H;#IO                     Murder   \n",
       "3        New York              CV                    Robbery   \n",
       "4     Santa Clara           NC;#P  Sex Offender Registration   \n",
       "...           ...             ...                        ...   \n",
       "2760   Huntington          CV;#NC            Child Sex Abuse   \n",
       "2761     Cuyahoga      CDC;#H;#IO               Manslaughter   \n",
       "2762        Dodge           H;#IO                     Murder   \n",
       "2763   Montgomery          CV;#NC    Other Nonviolent Felony   \n",
       "2764    (Eastern)             FED                      Fraud   \n",
       "\n",
       "                               List Add'l Crimes Recode  ...    *   FC  MWID  \\\n",
       "0     Sexual Assault;#Kidnapping;#Burglary/Unlawful ...  ...  NaN  NaN  MWID   \n",
       "1                                               Robbery  ...  NaN  NaN  MWID   \n",
       "2                                         Rape;#Robbery  ...  NaN   FC   NaN   \n",
       "3                                                   NaN  ...  NaN  NaN  MWID   \n",
       "4                                                   NaN  ...  NaN  NaN   NaN   \n",
       "...                                                 ...  ...  ...  ...   ...   \n",
       "2760                                                NaN  ...  NaN  NaN   NaN   \n",
       "2761  Attempted Murder;#Robbery;#Assault;#Kidnapping...  ...    *  NaN   NaN   \n",
       "2762                                                NaN  ...    *   FC   NaN   \n",
       "2763                                                NaN  ...  NaN  NaN   NaN   \n",
       "2764                                                NaN  ...  NaN  NaN   NaN   \n",
       "\n",
       "      F/MFE  P/FA   OM  ILD Posting Date          OM Tags Occurred  \n",
       "0       NaN   NaN  NaN  NaN   2011-09-01              NaN     1991  \n",
       "1     F/MFE   NaN   OM  NaN   2011-08-29   OF;#WH;#NW;#WT     1982  \n",
       "2       NaN  P/FA   OM  NaN   2015-02-13  OF;#WH;#NW;#INT     1984  \n",
       "3       NaN   NaN  NaN  NaN   2019-05-13              NaN     2005  \n",
       "4       NaN   NaN  NaN  ILD   2011-08-29              NaN     1994  \n",
       "...     ...   ...  ...  ...          ...              ...      ...  \n",
       "2760    NaN  P/FA  NaN  NaN   2017-08-08              NaN     2000  \n",
       "2761  F/MFE  P/FA   OM  NaN   2013-10-04   FA;#WH;#NW;#PJ     1997  \n",
       "2762    NaN   NaN  NaN  ILD   2011-08-29              NaN     2000  \n",
       "2763    NaN  P/FA   OM  NaN   2014-10-25           PR;#WH     1988  \n",
       "2764    NaN   NaN   OM  NaN   2011-08-29           PR;#WH     2001  \n",
       "\n",
       "[2765 rows x 24 columns]"
      ]
     },
     "execution_count": 1,
     "metadata": {},
     "output_type": "execute_result"
    }
   ],
   "source": [
    "import pandas as pd\n",
    "import seaborn as sns\n",
    "import matplotlib.pyplot as plt\n",
    "df = pd.read_excel ('data/publicspreadsheet.xlsx')\n",
    "df"
   ]
  },
  {
   "cell_type": "markdown",
   "metadata": {},
   "source": [
    "# Data Cleaning"
   ]
  },
  {
   "cell_type": "markdown",
   "metadata": {},
   "source": [
    "Describe your data cleaning steps here."
   ]
  },
  {
   "cell_type": "markdown",
   "metadata": {},
   "source": [
    "First, we removed columns for variables that did not pertain to our research question and those containing identifying information in order to anonymize the data. We also dropped rows where race was unknown since we cannot make assumptions about race. Additionally, we renamed the exoneration reason columns to be more meaningful."
   ]
  },
  {
   "cell_type": "code",
   "execution_count": 2,
   "metadata": {},
   "outputs": [],
   "source": [
    "# Dropped columns irrelevant to our research question and dropped columns with identifying information like names\n",
    "df2 = df.drop([\"Last Name\", \"First Name\", \"Sex\", \"Sentence\", \"Convicted\", \"Exonerated\", \"Occurred\", \"County\", \"State\", \"Posting Date\", \"Tags\", \"OM Tags\", \"*\", \"List Add'l Crimes Recode\"], axis=1)\n",
    "\n",
    "# Dropped rows where race infornation is unknown (either \"Other\" or \"Don't Know\")\n",
    "df2 = df2[(df2['Race'] != \"Don't Know\") & (df2['Race'] != 'Other')]"
   ]
  },
  {
   "cell_type": "code",
   "execution_count": 3,
   "metadata": {},
   "outputs": [],
   "source": [
    "# Renamed acronyms with clearer names\n",
    "df2 = df2.rename(columns={\"FC\" : \"False Confession\", \"MWID\": \"Witness Misidentification\", \"F/MFE\": \"False Evidence\", \"P/FA\": \"Perjury\", \"OM\": \"Official Misconduct\", \"ILD\": \"Legal Defense\"})"
   ]
  },
  {
   "cell_type": "markdown",
   "metadata": {},
   "source": [
    "To clean the exoneration reason columns, we changed NaNs to 0s and other values to 1s to indicate that the variable was a reason for the individual's exoneration. This allows us to take the sum of a reason column in order to get the counts of how many exonerees this reason pertains to."
   ]
  },
  {
   "cell_type": "code",
   "execution_count": 4,
   "metadata": {},
   "outputs": [],
   "source": [
    "# Made exoneration reason columns booleans (1 if it was a reason, 0 otherwise replacing NaNs)\n",
    "df2.update(df2[[\"DNA\", \"False Confession\", \"Witness Misidentification\",\"False Evidence\",\"Perjury\",\"Official Misconduct\",\"Legal Defense\"]].fillna(0))\n",
    "df2 = df2.replace({\"DNA\": 1,\"FC\" :1,\"MWID\":1, \"F/MFE\": 1, \"P/FA\": 1, \"OM\": 1, \"ILD\": 1})"
   ]
  },
  {
   "cell_type": "markdown",
   "metadata": {},
   "source": [
    "Finally, we standardized the worst crime column, categorizing the large variety of crimes into 7 distinct groups: sex crimes, violent crimes, property crimes, consensual crimes, white collar crimes, harrassment crimes, and nonviolent crimes. This helps us make sense of how type of crime might also correlate to reason for exoneration in addition to race."
   ]
  },
  {
   "cell_type": "code",
   "execution_count": 5,
   "metadata": {},
   "outputs": [],
   "source": [
    "def standardize_crime(string):\n",
    "    if \"Sex\" in string:\n",
    "        output = 'sex crimes'\n",
    "    elif (string == 'Murder' or string == 'Robbery' or string == 'Manslaughter' or string == 'Assault'\n",
    "        or string == 'Kidnapping' or string == 'Other Violent Felony' or string == 'Attempted Murder'\n",
    "        or string == 'Child Abuse' or string == 'Attempt, Violent' or string == 'Accessory to Murder'\n",
    "        or string == 'Traffic Offense' or string == 'Supporting Terrorism' or string == 'Other Violent Misdemeanor'\n",
    "        or string == 'Dependent Adult Abuse'):\n",
    "        output = 'violent crimes'\n",
    "    elif (string == 'Theft' or string == 'Burglary/Unlawful Entry' or string == 'Arson'\n",
    "         or string == 'Possession of Stolen Property' or string == 'Destruction of Property'):\n",
    "        output = 'property crimes'\n",
    "    elif (string == 'Drug Possession or Sale' or string == 'Weapon Possession or Sale' or string == 'Solicitation'\n",
    "         or string == 'Conspiracy'):\n",
    "        output = 'consensual crimes'\n",
    "    elif (string == 'Bribery' or string == 'Fraud' or string == 'Tax Evasion/Fraud' or string == 'Perjury'\n",
    "         or string == 'Threats' or string == 'Filing a False Report' or string == 'Official Misconduct'\n",
    "         or string == 'Forgery' or string == 'Obstruction of Justice'):\n",
    "        output = 'white collar crimes'\n",
    "    elif (string == 'Stalking' or string == 'Menacing' or string == 'Harrassment'):\n",
    "        output = 'harrassment crimes'\n",
    "    elif (string == 'Immigration' or string == 'Other Nonviolent Felony' or string == 'Other Nonviolent Misdemeanor'\n",
    "         or string == 'Failure to Pay Child Support'):\n",
    "        output = 'nonviolent crimes'\n",
    "    else:\n",
    "        output = ''\n",
    "        \n",
    "    return output\n",
    "\n",
    "df2['Worst Crime Display'] = df2['Worst Crime Display'].apply(standardize_crime)\n",
    "df2 = df2[df2['Worst Crime Display'] != '']"
   ]
  },
  {
   "cell_type": "markdown",
   "metadata": {},
   "source": [
    "### The cleaned dataset:"
   ]
  },
  {
   "cell_type": "code",
   "execution_count": 6,
   "metadata": {},
   "outputs": [
    {
     "data": {
      "text/html": [
       "<div>\n",
       "<style scoped>\n",
       "    .dataframe tbody tr th:only-of-type {\n",
       "        vertical-align: middle;\n",
       "    }\n",
       "\n",
       "    .dataframe tbody tr th {\n",
       "        vertical-align: top;\n",
       "    }\n",
       "\n",
       "    .dataframe thead th {\n",
       "        text-align: right;\n",
       "    }\n",
       "</style>\n",
       "<table border=\"1\" class=\"dataframe\">\n",
       "  <thead>\n",
       "    <tr style=\"text-align: right;\">\n",
       "      <th></th>\n",
       "      <th>Age</th>\n",
       "      <th>Race</th>\n",
       "      <th>Worst Crime Display</th>\n",
       "      <th>DNA</th>\n",
       "      <th>False Confession</th>\n",
       "      <th>Witness Misidentification</th>\n",
       "      <th>False Evidence</th>\n",
       "      <th>Perjury</th>\n",
       "      <th>Official Misconduct</th>\n",
       "      <th>Legal Defense</th>\n",
       "    </tr>\n",
       "  </thead>\n",
       "  <tbody>\n",
       "    <tr>\n",
       "      <th>0</th>\n",
       "      <td>31.0</td>\n",
       "      <td>Black</td>\n",
       "      <td>sex crimes</td>\n",
       "      <td>1</td>\n",
       "      <td>0</td>\n",
       "      <td>1</td>\n",
       "      <td>0</td>\n",
       "      <td>0</td>\n",
       "      <td>0</td>\n",
       "      <td>0</td>\n",
       "    </tr>\n",
       "    <tr>\n",
       "      <th>1</th>\n",
       "      <td>43.0</td>\n",
       "      <td>Black</td>\n",
       "      <td>sex crimes</td>\n",
       "      <td>1</td>\n",
       "      <td>0</td>\n",
       "      <td>1</td>\n",
       "      <td>1</td>\n",
       "      <td>0</td>\n",
       "      <td>1</td>\n",
       "      <td>0</td>\n",
       "    </tr>\n",
       "    <tr>\n",
       "      <th>2</th>\n",
       "      <td>17.0</td>\n",
       "      <td>White</td>\n",
       "      <td>violent crimes</td>\n",
       "      <td>1</td>\n",
       "      <td>1</td>\n",
       "      <td>0</td>\n",
       "      <td>0</td>\n",
       "      <td>1</td>\n",
       "      <td>1</td>\n",
       "      <td>0</td>\n",
       "    </tr>\n",
       "    <tr>\n",
       "      <th>3</th>\n",
       "      <td>32.0</td>\n",
       "      <td>Black</td>\n",
       "      <td>violent crimes</td>\n",
       "      <td>0</td>\n",
       "      <td>0</td>\n",
       "      <td>1</td>\n",
       "      <td>0</td>\n",
       "      <td>0</td>\n",
       "      <td>0</td>\n",
       "      <td>0</td>\n",
       "    </tr>\n",
       "    <tr>\n",
       "      <th>4</th>\n",
       "      <td>35.0</td>\n",
       "      <td>Hispanic</td>\n",
       "      <td>sex crimes</td>\n",
       "      <td>0</td>\n",
       "      <td>0</td>\n",
       "      <td>0</td>\n",
       "      <td>0</td>\n",
       "      <td>0</td>\n",
       "      <td>0</td>\n",
       "      <td>1</td>\n",
       "    </tr>\n",
       "    <tr>\n",
       "      <th>...</th>\n",
       "      <td>...</td>\n",
       "      <td>...</td>\n",
       "      <td>...</td>\n",
       "      <td>...</td>\n",
       "      <td>...</td>\n",
       "      <td>...</td>\n",
       "      <td>...</td>\n",
       "      <td>...</td>\n",
       "      <td>...</td>\n",
       "      <td>...</td>\n",
       "    </tr>\n",
       "    <tr>\n",
       "      <th>2760</th>\n",
       "      <td>38.0</td>\n",
       "      <td>White</td>\n",
       "      <td>sex crimes</td>\n",
       "      <td>0</td>\n",
       "      <td>0</td>\n",
       "      <td>0</td>\n",
       "      <td>0</td>\n",
       "      <td>1</td>\n",
       "      <td>0</td>\n",
       "      <td>0</td>\n",
       "    </tr>\n",
       "    <tr>\n",
       "      <th>2761</th>\n",
       "      <td>40.0</td>\n",
       "      <td>White</td>\n",
       "      <td>violent crimes</td>\n",
       "      <td>1</td>\n",
       "      <td>0</td>\n",
       "      <td>0</td>\n",
       "      <td>1</td>\n",
       "      <td>1</td>\n",
       "      <td>1</td>\n",
       "      <td>0</td>\n",
       "    </tr>\n",
       "    <tr>\n",
       "      <th>2762</th>\n",
       "      <td>53.0</td>\n",
       "      <td>White</td>\n",
       "      <td>violent crimes</td>\n",
       "      <td>1</td>\n",
       "      <td>1</td>\n",
       "      <td>0</td>\n",
       "      <td>0</td>\n",
       "      <td>0</td>\n",
       "      <td>0</td>\n",
       "      <td>1</td>\n",
       "    </tr>\n",
       "    <tr>\n",
       "      <th>2763</th>\n",
       "      <td>38.0</td>\n",
       "      <td>White</td>\n",
       "      <td>nonviolent crimes</td>\n",
       "      <td>0</td>\n",
       "      <td>0</td>\n",
       "      <td>0</td>\n",
       "      <td>0</td>\n",
       "      <td>1</td>\n",
       "      <td>1</td>\n",
       "      <td>0</td>\n",
       "    </tr>\n",
       "    <tr>\n",
       "      <th>2764</th>\n",
       "      <td>53.0</td>\n",
       "      <td>White</td>\n",
       "      <td>white collar crimes</td>\n",
       "      <td>0</td>\n",
       "      <td>0</td>\n",
       "      <td>0</td>\n",
       "      <td>0</td>\n",
       "      <td>0</td>\n",
       "      <td>1</td>\n",
       "      <td>0</td>\n",
       "    </tr>\n",
       "  </tbody>\n",
       "</table>\n",
       "<p>2742 rows × 10 columns</p>\n",
       "</div>"
      ],
      "text/plain": [
       "       Age      Race  Worst Crime Display  DNA  False Confession  \\\n",
       "0     31.0     Black           sex crimes    1                 0   \n",
       "1     43.0     Black           sex crimes    1                 0   \n",
       "2     17.0     White       violent crimes    1                 1   \n",
       "3     32.0     Black       violent crimes    0                 0   \n",
       "4     35.0  Hispanic           sex crimes    0                 0   \n",
       "...    ...       ...                  ...  ...               ...   \n",
       "2760  38.0     White           sex crimes    0                 0   \n",
       "2761  40.0     White       violent crimes    1                 0   \n",
       "2762  53.0     White       violent crimes    1                 1   \n",
       "2763  38.0     White    nonviolent crimes    0                 0   \n",
       "2764  53.0     White  white collar crimes    0                 0   \n",
       "\n",
       "      Witness Misidentification  False Evidence  Perjury  Official Misconduct  \\\n",
       "0                             1               0        0                    0   \n",
       "1                             1               1        0                    1   \n",
       "2                             0               0        1                    1   \n",
       "3                             1               0        0                    0   \n",
       "4                             0               0        0                    0   \n",
       "...                         ...             ...      ...                  ...   \n",
       "2760                          0               0        1                    0   \n",
       "2761                          0               1        1                    1   \n",
       "2762                          0               0        0                    0   \n",
       "2763                          0               0        1                    1   \n",
       "2764                          0               0        0                    1   \n",
       "\n",
       "      Legal Defense  \n",
       "0                 0  \n",
       "1                 0  \n",
       "2                 0  \n",
       "3                 0  \n",
       "4                 1  \n",
       "...             ...  \n",
       "2760              0  \n",
       "2761              0  \n",
       "2762              1  \n",
       "2763              0  \n",
       "2764              0  \n",
       "\n",
       "[2742 rows x 10 columns]"
      ]
     },
     "execution_count": 6,
     "metadata": {},
     "output_type": "execute_result"
    }
   ],
   "source": [
    "df2"
   ]
  },
  {
   "cell_type": "markdown",
   "metadata": {},
   "source": [
    "# Data Analysis & Results (EDA)"
   ]
  },
  {
   "cell_type": "markdown",
   "metadata": {},
   "source": [
    "Carry out EDA on your dataset(s); Describe in this section"
   ]
  },
  {
   "cell_type": "markdown",
   "metadata": {},
   "source": [
    "### Distribution of Race\n",
    "We first visualize race to understand the distribution of Black, White, Hispanic, Asian, and Native American exonerees in the dataset."
   ]
  },
  {
   "cell_type": "code",
   "execution_count": 7,
   "metadata": {},
   "outputs": [
    {
     "data": {
      "image/png": "[encoded data removed]",
      "text/plain": [
       "<Figure size 432x288 with 1 Axes>"
      ]
     },
     "metadata": {
      "needs_background": "light"
     },
     "output_type": "display_data"
    }
   ],
   "source": [
    "#Plot the distributions of race in  our data set\n",
    "ax = sns.histplot(df2['Race'], kde=False)\n",
    "ax.set_title('Distribution of Race')\n",
    "plt.show()"
   ]
  },
  {
   "cell_type": "markdown",
   "metadata": {},
   "source": [
    "From this distribution we can see that the majority of the data comes from exonerations involving Black (~1350) or White individuals (1000). Hispanic individuals represent about 300 observations and Asians and Native Americans have < 200 observations. "
   ]
  },
  {
   "cell_type": "markdown",
   "metadata": {},
   "source": [
    "### Exoneration Reason Counts\n",
    "For exoneration reasons __(DNA, False Confession, Witness Misidentification, False Evidence, Perjury, Official Misconduct, Legal Defense)__, we look at the total counts of individuals that were and were not exonerated for each reason. Here 0 indicates that an exoneree was not exonerated for the corresponding reason, while a 1 indicates that they were exonerated for this reason."
   ]
  },
  {
   "cell_type": "code",
   "execution_count": 8,
   "metadata": {},
   "outputs": [
    {
     "data": {
      "image/png": "[encoded data removed]",
      "text/plain": [
       "<Figure size 1080x864 with 9 Axes>"
      ]
     },
     "metadata": {
      "needs_background": "light"
     },
     "output_type": "display_data"
    }
   ],
   "source": [
    "#Plot the distributions of the reasons for each wrongful conviction (DNA, False Confession, Witness Misidentification, False Evidence, Perjury, Offical Misconduct, Legal Defense)\n",
    "fig, ax = plt.subplots(3,3, figsize=(15,12))\n",
    "plt.subplots_adjust(hspace=0.3, wspace=0.3)\n",
    "sns.countplot(x='DNA', data=df2, ax=ax[0][0])\n",
    "sns.countplot(x='False Confession', data=df2, ax=ax[0][1])\n",
    "sns.countplot(x='Witness Misidentification', data=df2, ax=ax[0][2])\n",
    "sns.countplot(x='False Evidence', data=df2, ax=ax[1][0])\n",
    "sns.countplot(x='Perjury', data=df2, ax=ax[1][1])\n",
    "sns.countplot(x='Official Misconduct', data=df2, ax=ax[1][2])\n",
    "sns.countplot(x='Legal Defense', data=df2, ax=ax[2][0])\n",
    "ax[2, 1].axis('off')\n",
    "ax[2, 2].axis('off')\n",
    "fig.suptitle('Exoneration Reason Counts');"
   ]
  },
  {
   "cell_type": "markdown",
   "metadata": {},
   "source": [
    "From plotting each of the reasons for wrongful convictions, we are able to see that fewer cases involve DNA and False Confession.\n",
    "About 750 cases involve inadequate Legal Defense, Witness Misidentification, and False Evidence.\n",
    "A majority of the cases cite Official misconduct and perjury as reasons for wrongful conviction."
   ]
  },
  {
   "cell_type": "markdown",
   "metadata": {},
   "source": [
    "### Race by exoneration reason\n",
    "To begin understanding the relationship between race and reason, we visualize the proportion of each race exonerated for a given reason (out of the total number of exonerees of that race since we saw earlier that the distribution of races is not uniform). We will consider this for all 7 reasons for exoneration."
   ]
  },
  {
   "cell_type": "code",
   "execution_count": 9,
   "metadata": {},
   "outputs": [],
   "source": [
    "# function to plot proportion of each race exonerated for a given reason\n",
    "def plot_race_by_reason(reason):\n",
    "    proportions = (df2.groupby(['Race']))[reason].value_counts(normalize=True).rename('proportion').reset_index()\n",
    "    proportions = proportions[proportions[reason] == 1]\n",
    "    proportions\n",
    "    ax = sns.barplot(x='Race', y='proportion', data=proportions)\n",
    "    ax.set_title(reason)\n",
    "    return ax"
   ]
  },
  {
   "cell_type": "code",
   "execution_count": 10,
   "metadata": {},
   "outputs": [
    {
     "data": {
      "image/png": "[encoded data removed]",
      "text/plain": [
       "<Figure size 432x288 with 1 Axes>"
      ]
     },
     "metadata": {
      "needs_background": "light"
     },
     "output_type": "display_data"
    }
   ],
   "source": [
    "plot_race_by_reason('DNA');"
   ]
  },
  {
   "cell_type": "markdown",
   "metadata": {},
   "source": [
    "Compared to their proportion in the dataset, about 30% of Black and Native American individuals' cases involve DNA, with a lower proportion of corresponding White, Hispanic, and Asian cases."
   ]
  },
  {
   "cell_type": "code",
   "execution_count": 11,
   "metadata": {},
   "outputs": [
    {
     "data": {
      "image/png": "[encoded data removed]",
      "text/plain": [
       "<Figure size 432x288 with 1 Axes>"
      ]
     },
     "metadata": {
      "needs_background": "light"
     },
     "output_type": "display_data"
    }
   ],
   "source": [
    "plot_race_by_reason('False Confession');"
   ]
  },
  {
   "cell_type": "markdown",
   "metadata": {},
   "source": [
    "From this visualization we can see that Native Americans stand out as having a notably higher proportion of cases involving false confession."
   ]
  },
  {
   "cell_type": "code",
   "execution_count": 12,
   "metadata": {},
   "outputs": [
    {
     "data": {
      "image/png": "[encoded data removed]",
      "text/plain": [
       "<Figure size 432x288 with 1 Axes>"
      ]
     },
     "metadata": {
      "needs_background": "light"
     },
     "output_type": "display_data"
    }
   ],
   "source": [
    "plot_race_by_reason('Witness Misidentification');"
   ]
  },
  {
   "cell_type": "markdown",
   "metadata": {},
   "source": [
    "For witness misidentification, the largest proportions are Black, Hispanic, and Native American."
   ]
  },
  {
   "cell_type": "code",
   "execution_count": 13,
   "metadata": {},
   "outputs": [
    {
     "data": {
      "image/png": "[encoded data removed]",
      "text/plain": [
       "<Figure size 432x288 with 1 Axes>"
      ]
     },
     "metadata": {
      "needs_background": "light"
     },
     "output_type": "display_data"
    }
   ],
   "source": [
    "plot_race_by_reason('False Evidence');"
   ]
  },
  {
   "cell_type": "markdown",
   "metadata": {},
   "source": [
    "Native Americans and Whites have the largest proportion of cases involving false evidence."
   ]
  },
  {
   "cell_type": "code",
   "execution_count": 14,
   "metadata": {},
   "outputs": [
    {
     "data": {
      "image/png": "[encoded data removed]",
      "text/plain": [
       "<Figure size 432x288 with 1 Axes>"
      ]
     },
     "metadata": {
      "needs_background": "light"
     },
     "output_type": "display_data"
    }
   ],
   "source": [
    "plot_race_by_reason('Perjury');"
   ]
  },
  {
   "cell_type": "markdown",
   "metadata": {},
   "source": [
    "Compared to the other reasons for exoneration, perjury has much higher proportions across all races. However, the proportion for Asians is noticeably lower compared to that of other races."
   ]
  },
  {
   "cell_type": "code",
   "execution_count": 15,
   "metadata": {},
   "outputs": [
    {
     "data": {
      "image/png": "[encoded data removed]",
      "text/plain": [
       "<Figure size 432x288 with 1 Axes>"
      ]
     },
     "metadata": {
      "needs_background": "light"
     },
     "output_type": "display_data"
    }
   ],
   "source": [
    "plot_race_by_reason('Official Misconduct');"
   ]
  },
  {
   "cell_type": "markdown",
   "metadata": {},
   "source": [
    "Official misconduct also has higher proportions across the board."
   ]
  },
  {
   "cell_type": "code",
   "execution_count": 16,
   "metadata": {},
   "outputs": [
    {
     "data": {
      "image/png": "[encoded data removed]",
      "text/plain": [
       "<Figure size 432x288 with 1 Axes>"
      ]
     },
     "metadata": {
      "needs_background": "light"
     },
     "output_type": "display_data"
    }
   ],
   "source": [
    "plot_race_by_reason('Legal Defense');"
   ]
  },
  {
   "cell_type": "markdown",
   "metadata": {},
   "source": [
    "For legal defense, the proportion of Asians is significantly higher than the other races."
   ]
  },
  {
   "cell_type": "markdown",
   "metadata": {},
   "source": [
    "### Exoneration Reason by Race\n",
    "To further our understanding about the relationship between reason for exoneration and race, we look at the exoneration reason breakdown for each race individually. Since we used 0s and 1s to encode the values in the reason columns, we can take the sum of a column to get its count."
   ]
  },
  {
   "cell_type": "code",
   "execution_count": 17,
   "metadata": {},
   "outputs": [],
   "source": [
    "# function to plot the distribution of reasons within a specified race\n",
    "def plot_reasons_by_race(race):\n",
    "    df_race = df2[df2['Race'] == race]\n",
    "    ax = sns.barplot(y=['Perjury', 'Legal Defense', 'DNA', 'Witness Misidentification',\n",
    "                    'False Confession', 'False Evidence', 'Official Misconduct'],\n",
    "                x=[df_race['Perjury'].sum(), df_race['Legal Defense'].sum(), df_race['DNA'].sum(),\n",
    "                   df_race['Witness Misidentification'].sum(), df_race['False Confession'].sum(),\n",
    "                   df_race['False Evidence'].sum(), df_race['Official Misconduct'].sum()])\n",
    "    ax.set_title('{f_race} exonerees'.format(f_race = race))\n",
    "    ax.set_xlabel('Count');\n",
    "    return ax"
   ]
  },
  {
   "cell_type": "code",
   "execution_count": 18,
   "metadata": {},
   "outputs": [
    {
     "data": {
      "image/png": "[encoded data removed]",
      "text/plain": [
       "<Figure size 432x288 with 1 Axes>"
      ]
     },
     "metadata": {
      "needs_background": "light"
     },
     "output_type": "display_data"
    }
   ],
   "source": [
    "plot_reasons_by_race('Black');"
   ]
  },
  {
   "cell_type": "code",
   "execution_count": 19,
   "metadata": {},
   "outputs": [
    {
     "data": {
      "image/png": "[encoded data removed]",
      "text/plain": [
       "<Figure size 432x288 with 1 Axes>"
      ]
     },
     "metadata": {
      "needs_background": "light"
     },
     "output_type": "display_data"
    }
   ],
   "source": [
    "plot_reasons_by_race('White');"
   ]
  },
  {
   "cell_type": "code",
   "execution_count": 20,
   "metadata": {},
   "outputs": [
    {
     "data": {
      "image/png": "[encoded data removed]",
      "text/plain": [
       "<Figure size 432x288 with 1 Axes>"
      ]
     },
     "metadata": {
      "needs_background": "light"
     },
     "output_type": "display_data"
    }
   ],
   "source": [
    "plot_reasons_by_race('Hispanic');"
   ]
  },
  {
   "cell_type": "code",
   "execution_count": 21,
   "metadata": {},
   "outputs": [
    {
     "data": {
      "image/png": "[encoded data removed]",
      "text/plain": [
       "<Figure size 432x288 with 1 Axes>"
      ]
     },
     "metadata": {
      "needs_background": "light"
     },
     "output_type": "display_data"
    }
   ],
   "source": [
    "plot_reasons_by_race('Native American');"
   ]
  },
  {
   "cell_type": "code",
   "execution_count": 22,
   "metadata": {},
   "outputs": [
    {
     "data": {
      "image/png": "[encoded data removed]",
      "text/plain": [
       "<Figure size 432x288 with 1 Axes>"
      ]
     },
     "metadata": {
      "needs_background": "light"
     },
     "output_type": "display_data"
    }
   ],
   "source": [
    "plot_reasons_by_race('Asian');"
   ]
  },
  {
   "cell_type": "markdown",
   "metadata": {},
   "source": [
    "When looking at the distribution of reason for exoneration by race, perjury and official misconduct are consistently the top two reasons among all races. For 3 of the races (Black, Hispanic, Native American) witness misidentification is the 3rd highest reason for exoneration, while among Asians and Whites it is the 2nd lowest reason for exoneration."
   ]
  }
 ],
 "metadata": {
  "kernelspec": {
   "display_name": "Python 3",
   "language": "python",
   "name": "python3"
  },
  "language_info": {
   "codemirror_mode": {
    "name": "ipython",
    "version": 3
   },
   "file_extension": ".py",
   "mimetype": "text/x-python",
   "name": "python",
   "nbconvert_exporter": "python",
   "pygments_lexer": "ipython3",
   "version": "3.8.5"
  }
 },
 "nbformat": 4,
 "nbformat_minor": 4
}
